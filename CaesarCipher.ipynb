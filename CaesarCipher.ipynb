{
 "cells": [
  {
   "cell_type": "markdown",
   "metadata": {},
   "source": [
    "# Final Project: Caesar Cipher"
   ]
  },
  {
   "cell_type": "markdown",
   "metadata": {},
   "source": [
    "## Description \n",
    "\n",
    "The project of Caesar Cipher is inspired by puzzle game Axiom as one chapter in the game is required to decode a message using Caesar Cipher. The project Caesar Cipher contains 3 parts in total: caesar encoder, caesar decoder, and caesar key finder. Users can use it to encode and decode a message with basic Caesar Cipher. If users forget the shifted value they used in previous messages, or they want to figure out the key value between certain encoded messages and their original ones (hacking is not good!!), they can use the key finder function to find the possible shifted value.\n",
    "\n",
    "This project is an application of ciphers in A2 with some extensions on finding the key with encoded message and original/decoded message. Except for the basic ideas of encoder and decoder using unicode, other fuctions were self-written. \n"
   ]
  },
  {
   "cell_type": "markdown",
   "metadata": {},
   "source": [
    "## Codes:"
   ]
  },
  {
   "cell_type": "code",
   "execution_count": 1,
   "metadata": {},
   "outputs": [],
   "source": [
    "\n",
    "from cipher_module.caesar_tool import check_key\n",
    "from cipher_module.caesar_tool import identify_key\n",
    "from cipher_module.caesar_tool import negative_encrypt\n",
    "from cipher_module.caesar_tool import positive_encrypt\n",
    "from cipher_module.caesar_tool import key_complement \n",
    "\n",
    "\n",
    "def caesar_encoder(input_message,key_num):\n",
    "    \"\"\"\n",
    "    Encoding the input message using the caesar cipher.\n",
    "    \n",
    "    Parameters\n",
    "    ----------\n",
    "    input_message: str\n",
    "        The original message that is needed to be encoded.\n",
    "    key_num: int\n",
    "        The key value that indicates the number of shifts. \n",
    "        The range of shifted value is from positive infinity to negative infinity. \n",
    "        The positive shifted value indicates counting to the right (ascendingly); \n",
    "        the negative shifted value indicates counting to the left (descendingly). \n",
    "        \n",
    "    Returns\n",
    "    -------\n",
    "    out_mes: str\n",
    "        The encoded message of input message after encypting with caesar cipher using the given key value.\n",
    "    str\n",
    "        The specific error occuring during encoding process.\n",
    "    \"\"\"\n",
    "    \n",
    "    # Check whether the key number is eligible for encoding (Whether it is 0 or multiples of 26 or a float or a string).\n",
    "    if check_key(key_num):\n",
    "\n",
    "        out_mes = ''\n",
    "        \n",
    "        # Loop through each character in the message and encrypt the letters.\n",
    "        for char in input_message:\n",
    "            if char.isalpha() == True:\n",
    "                \n",
    "                key = identify_key(key_num)  # Turn the input key value into the equivalent number within the range of -25 to 25 inclusive.\n",
    "                code_char = ord(char) + key  # Encode the character by adding the shifted value.\n",
    "                \n",
    "                # Check if the unicode of encoded character is encoded followed the rules that uppercase letter remains uppercase; lowercase letter remains lowercase.\n",
    "                # If not, transform the unicode into the unicode that follows the rules.\n",
    "                if key > 0:\n",
    "                    code_char = positive_encrypt(char,code_char)\n",
    "                elif key < 0:\n",
    "                    code_char = negative_encrypt(char,code_char)\n",
    "                \n",
    "                # Turn the encoded unicode back into character\n",
    "                encoded = chr(code_char)\n",
    "                out_mes = out_mes + encoded\n",
    "                \n",
    "            else:\n",
    "                out_mes = out_mes + char \n",
    "                \n",
    "        return out_mes\n",
    "    \n",
    "    else:\n",
    "        return \"The value should be an integer that is not equal to 0 or any multiples of 26. \"\n",
    "\n",
    "    \n",
    "def caesar_decoder(encoded_message,key_num):\n",
    "    \"\"\"\n",
    "    Decoding the encrypted message using caesar cipher.\n",
    "    \n",
    "    Parameters\n",
    "    ----------\n",
    "    encoded_message: str\n",
    "        The encoded message that is needed to be decoded.\n",
    "    key_num: int\n",
    "        The corresponding key value of the given encoded message, which indicates the number of shifts.\n",
    "        \n",
    "    Returns\n",
    "    -------\n",
    "    out_mes: str\n",
    "        The decoded message of the encoded message after decrypting with caesar cipher using the given key value.\n",
    "    str\n",
    "        The specific error occuring during decoding process.\n",
    "    \"\"\"\n",
    "    \n",
    "    # Check if the key is eligible for decoded. (Whether it is 0 or multiples of 26 or a float or a string).\n",
    "    if check_key(key_num):\n",
    "        \n",
    "        out_mes = ''\n",
    "        \n",
    "        # Loop through each character in the message and decrypt the letters only.\n",
    "        for char in encoded_message:\n",
    "            if char.isalpha() == True:\n",
    "                \n",
    "                key = identify_key(key_num)      # Turn the input key value into the equivalent number within the range of -25 to 25 \n",
    "                decoded_char = ord(char) - key   # Decode the character by subtracting the key from the unicode of encoded character.\n",
    "                \n",
    "                # Check whether the unicode of decoded character follows the rule that: uppercase letter remains uppercase; lowercase letter remains lowercase.\n",
    "                # If not, transform the unicode into the unicode that follows the rules.\n",
    "                if key > 0:\n",
    "                    decoded_char = negative_encrypt(char,decoded_char)  # Because decoding is the reversed process of encoding, the positive key used in the encoding is decrypted by becoming negative here.\n",
    "                elif key < 0:\n",
    "                    decoded_char = positive_encrypt(char,decoded_char)  # Due to the same reason, the negative key used in the encoding becomes positive here.\n",
    "                \n",
    "                decoded = chr(decoded_char)       \n",
    "                out_mes = out_mes + decoded\n",
    "                \n",
    "            else:\n",
    "                out_mes = out_mes + char\n",
    "                \n",
    "        return out_mes\n",
    "\n",
    "    elif isinstance(key_num, float) or isinstance(key_num, str):\n",
    "        return \"Please enter an integer.\"\n",
    "    \n",
    "    else:\n",
    "        return \"This message has not been encoded.\"\n",
    "                \n",
    "            \n",
    "def caesar_key_finder(encoded_mes,decoded_mes):\n",
    "    \"\"\"\n",
    "    Finding the simplified key value (the key value within the range of -26 to 26) with given encoded message and decoded message.\n",
    "    \n",
    "    Parameters\n",
    "    ----------\n",
    "    encoded_mes: str\n",
    "        The encoded message that is used to find the key value.\n",
    "    decoded_mes: str\n",
    "        The corresponding decoded message of the given encoded message that is used to find the key value.\n",
    "        \n",
    "    Returns\n",
    "    -------\n",
    "    key: int\n",
    "        The cooresponding simplified key values of the given encoded message and decoded message. \n",
    "        The simplified shifted values occur as pairs, one positive and one negative.\n",
    "    str\n",
    "        The specific error occuring in the way of finding the corresponding key value.\n",
    "    \"\"\"\n",
    "    \n",
    "    # Check if two messages are eligible for finding the key. (If two messages do not have the same length, the message might not be encrypted using classic caesar cipher.)\n",
    "    if len(encoded_mes) == len(decoded_mes):\n",
    "        \n",
    "        # Set the first identified key as the reference key.\n",
    "        for num in range(len(encoded_mes)):\n",
    "        \n",
    "            en_char1 = encoded_mes[num]\n",
    "            de_char1 = decoded_mes[num]\n",
    "               \n",
    "            if en_char1.isalpha and de_char1.isalpha:\n",
    "                key = ord(en_char1) - ord(de_char1)\n",
    "                complement_key = key_complement(key)\n",
    "                break\n",
    "            \n",
    "        \n",
    "        # Test if the shifted value is consistent throughout the message by calculating the shifted value for every letters pair and comparing it to the reference key.\n",
    "        # If the test fails, the message might be encrypted using at least two different shifted values on different parts of the message;\n",
    "        for num in range(len(encoded_mes)):\n",
    "            \n",
    "            en_char = encoded_mes[num]\n",
    "            de_char = decoded_mes[num]\n",
    "            \n",
    "            if en_char.isalpha() and de_char.isalpha():\n",
    "                test_key = ord(en_char) - ord(de_char)\n",
    "                \n",
    "            if test_key != key and test_key != complement_key:\n",
    "                return \"Sorry, we failed to find the key. Are you sure that they are encrypted via classical caesar ciper?\"\n",
    "            \n",
    "        # Check the value of key to see if the message is been encryted.\n",
    "        if not check_key(key):\n",
    "            return \"Your message is not encrypted. \"\n",
    "        \n",
    "        # If successfully pass all the tests above, output the key and the complement key.\n",
    "        return key, complement_key\n",
    "    \n",
    "    else: \n",
    "        return \"Two messages do not match. Check your input:)\"\n",
    "        \n",
    "\n",
    "            "
   ]
  },
  {
   "cell_type": "markdown",
   "metadata": {},
   "source": [
    "## Caesar Cipher Examples:"
   ]
  },
  {
   "cell_type": "markdown",
   "metadata": {},
   "source": [
    "#### Caesar Encoder\n",
    "\n",
    "Original message: \"COGS 18 is awesome!\"\n",
    "\n",
    "Shifted value: 18"
   ]
  },
  {
   "cell_type": "code",
   "execution_count": 2,
   "metadata": {},
   "outputs": [
    {
     "data": {
      "text/plain": [
       "'UGYK 18 ak sowkgew!'"
      ]
     },
     "execution_count": 2,
     "metadata": {},
     "output_type": "execute_result"
    }
   ],
   "source": [
    "caesar_encoder(\"COGS 18 is awesome!\", 18)"
   ]
  },
  {
   "cell_type": "markdown",
   "metadata": {},
   "source": [
    "#### Caesar Decoder\n",
    "\n",
    "Encrypted message: \"Lzsfc qgm kg emuz xgj lzak imsjlwj!\"\n",
    "\n",
    "Shifted value: 18"
   ]
  },
  {
   "cell_type": "code",
   "execution_count": 3,
   "metadata": {},
   "outputs": [
    {
     "data": {
      "text/plain": [
       "'Thank you so much for this quarter!'"
      ]
     },
     "execution_count": 3,
     "metadata": {},
     "output_type": "execute_result"
    }
   ],
   "source": [
    "caesar_decoder(\"Lzsfc qgm kg emuz xgj lzak imsjlwj!\", 18)"
   ]
  },
  {
   "cell_type": "markdown",
   "metadata": {},
   "source": [
    "#### Caesar Key Finder\n",
    "\n",
    "Encrypted message: \"\n",
    "\n",
    "Original/Decoded message: \""
   ]
  },
  {
   "cell_type": "code",
   "execution_count": 4,
   "metadata": {},
   "outputs": [
    {
     "data": {
      "text/plain": [
       "(18, -8)"
      ]
     },
     "execution_count": 4,
     "metadata": {},
     "output_type": "execute_result"
    }
   ],
   "source": [
    "caesar_key_finder(\"Zsnw s yjwsl kmeewj tjwsc!\",\"Have a great summer break!\")"
   ]
  },
  {
   "cell_type": "markdown",
   "metadata": {
    "scrolled": true
   },
   "source": [
    "## Test"
   ]
  },
  {
   "cell_type": "code",
   "execution_count": 5,
   "metadata": {},
   "outputs": [
    {
     "name": "stdout",
     "output_type": "stream",
     "text": [
      "============================= test session starts =============================\n",
      "platform win32 -- Python 3.7.6, pytest-5.3.5, py-1.8.1, pluggy-0.13.1\n",
      "rootdir: C:\\Users\\cathy\\Desktop\\COGS 18\\Final Project\n",
      "plugins: hypothesis-5.5.4, arraydiff-0.3, astropy-header-0.1.2, doctestplus-0.5.0, openfiles-0.4.0, remotedata-0.3.2\n",
      "collected 3 items\n",
      "\n",
      "cipher_module\\test_functions.py ...                                      [100%]\n",
      "\n",
      "============================== 3 passed in 0.11s ==============================\n"
     ]
    }
   ],
   "source": [
    "!pytest cipher_module"
   ]
  }
 ],
 "metadata": {
  "kernelspec": {
   "display_name": "Python 3",
   "language": "python",
   "name": "python3"
  },
  "language_info": {
   "codemirror_mode": {
    "name": "ipython",
    "version": 3
   },
   "file_extension": ".py",
   "mimetype": "text/x-python",
   "name": "python",
   "nbconvert_exporter": "python",
   "pygments_lexer": "ipython3",
   "version": "3.7.6"
  }
 },
 "nbformat": 4,
 "nbformat_minor": 2
}
